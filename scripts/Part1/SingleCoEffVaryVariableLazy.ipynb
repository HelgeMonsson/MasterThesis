{
 "cells": [
  {
   "cell_type": "code",
   "execution_count": 23,
   "metadata": {},
   "outputs": [],
   "source": [
    "import numpy as np\n",
    "import pandas as pd\n",
    "import sys\n",
    "\n",
    "from numpy.random import normal\n",
    "\n",
    "import cobra\n",
    "\n",
    "sys.path.append('../')\n",
    "from uncBiomFuncs import file_name, make_normal_distributed_coefficients, make_pfba_csv, make_fluxes_dataframe "
   ]
  },
  {
   "cell_type": "code",
   "execution_count": 1,
   "metadata": {
    "scrolled": true
   },
   "outputs": [
    {
     "name": "stdout",
     "output_type": "stream",
     "text": [
      "0.05\n",
      "atp_c\n"
     ]
    }
   ],
   "source": [
    "size = 10000\n",
    "\n",
    "f = open('Parameters.txt', 'r')\n",
    "\n",
    "# Set this to 0.05, 0.2, and 0.3 and rerun\n",
    "coeff_std_old = float(f.readline().strip())\n",
    "coeff_std = 0.05\n",
    "met_select = f.readline().strip()\n",
    "#met_select = 'atp_c'\n",
    "\n",
    "print(coeff_std)\n",
    "print(met_select)\n",
    "f.close()"
   ]
  },
  {
   "cell_type": "code",
   "execution_count": 25,
   "metadata": {},
   "outputs": [],
   "source": [
    "dir_model = 'EcoliGecko.json'\n",
    "model = cobra.io.load_json_model(dir_model)\n",
    "model.solver = 'gurobi'\n",
    "\n",
    "#revBetaOx = ['ACACT1r', 'ACACT2r', 'ACACT3r', 'ACACT4r', 'ACACT5r',\n",
    "#             'ACACT6r', 'ACACT7r', 'ACACT8r']\n",
    "\n",
    "revBetaOx = ['arm_ACACT1r', 'arm_ACACT1r_REV', 'arm_ACACT2r', 'arm_ACACT2r_REV', 'arm_ACACT3r', 'arm_ACACT3r_REV',\n",
    "            'arm_ACACT4r', 'arm_ACACT4r_REV', 'arm_ACACT5r', 'arm_ACACT5r_REV', 'arm_ACACT6r', 'arm_ACACT6r_REV',\n",
    "            'arm_ACACT7r', 'arm_ACACT7r_REV', 'arm_ACACT8r', 'arm_ACACT8r_REV']\n",
    "for rxnid in revBetaOx:\n",
    "    rxn = model.reactions.get_by_id(rxnid)\n",
    "    rxn.upper_bound = 0\n",
    "model.reactions.arm_POR5.lower_bound = 0\n",
    "#model.reactions.POR5.lower_bound = 0\n",
    "\n",
    "config = cobra.Configuration()\n",
    "config.tolerance = 1e-9\n",
    "zero_tol = 1e-9\n",
    "\n",
    "biomId = 'BIOMASS_Ec_iML1515_core_75p37M'\n",
    "#biomId = 'BIOMASS_Ec_iML1515_WT_75p37M'\n",
    "gam_val = 75.37723\n",
    "dir_case = './output/'\n",
    "import os\n",
    "if not os.path.exists(dir_case):\n",
    "    os.makedirs(dir_case)"
   ]
  },
  {
   "cell_type": "code",
   "execution_count": 26,
   "metadata": {},
   "outputs": [
    {
     "ename": "KeyboardInterrupt",
     "evalue": "",
     "output_type": "error",
     "traceback": [
      "\u001b[1;31m---------------------------------------------------------------------------\u001b[0m",
      "\u001b[1;31mKeyboardInterrupt\u001b[0m                         Traceback (most recent call last)",
      "\u001b[1;32m~\\AppData\\Local\\Temp/ipykernel_20552/3669104846.py\u001b[0m in \u001b[0;36m<module>\u001b[1;34m\u001b[0m\n\u001b[0;32m      1\u001b[0m \u001b[1;31m# Step 1 - vary coefficient\u001b[0m\u001b[1;33m\u001b[0m\u001b[1;33m\u001b[0m\u001b[0m\n\u001b[0;32m      2\u001b[0m \u001b[0mfname\u001b[0m \u001b[1;33m=\u001b[0m \u001b[0mfile_name\u001b[0m\u001b[1;33m(\u001b[0m\u001b[0mcoeff_std\u001b[0m\u001b[1;33m=\u001b[0m\u001b[0mcoeff_std\u001b[0m\u001b[1;33m,\u001b[0m \u001b[0mgam_std\u001b[0m\u001b[1;33m=\u001b[0m\u001b[1;32mNone\u001b[0m\u001b[1;33m,\u001b[0m \u001b[0mftype\u001b[0m\u001b[1;33m=\u001b[0m\u001b[1;34m'dfCoeff'\u001b[0m\u001b[1;33m)\u001b[0m\u001b[1;33m\u001b[0m\u001b[1;33m\u001b[0m\u001b[0m\n\u001b[1;32m----> 3\u001b[1;33m dfCoeff = make_normal_distributed_coefficients(model, coeff_std=coeff_std,\n\u001b[0m\u001b[0;32m      4\u001b[0m                 gam_val=gam_val, biomId=biomId, mets_select=[met_select], size=size)\n\u001b[0;32m      5\u001b[0m \u001b[0mdfCoeff\u001b[0m\u001b[1;33m.\u001b[0m\u001b[0mto_csv\u001b[0m\u001b[1;33m(\u001b[0m\u001b[0mdir_case\u001b[0m \u001b[1;33m+\u001b[0m \u001b[0mfname\u001b[0m \u001b[1;33m+\u001b[0m \u001b[1;34m'.csv'\u001b[0m\u001b[1;33m,\u001b[0m \u001b[0msep\u001b[0m\u001b[1;33m=\u001b[0m\u001b[1;34m'\\t'\u001b[0m\u001b[1;33m)\u001b[0m\u001b[1;33m\u001b[0m\u001b[1;33m\u001b[0m\u001b[0m\n",
      "\u001b[1;32m~\\MasterProject\\uncBiomFuncs.py\u001b[0m in \u001b[0;36mmake_normal_distributed_coefficients\u001b[1;34m(model, coeff_std, gam_val, biomId, mets_select, size, bal_adjust, mw_adjust, zero_tol)\u001b[0m\n\u001b[0;32m    109\u001b[0m             \u001b[0mcoeff\u001b[0m \u001b[1;33m=\u001b[0m \u001b[1;36m0\u001b[0m\u001b[1;33m\u001b[0m\u001b[1;33m\u001b[0m\u001b[0m\n\u001b[0;32m    110\u001b[0m             \u001b[1;32mfor\u001b[0m \u001b[0mk\u001b[0m\u001b[1;33m,\u001b[0m\u001b[0mv\u001b[0m \u001b[1;32min\u001b[0m \u001b[0maas\u001b[0m\u001b[1;33m.\u001b[0m\u001b[0mitems\u001b[0m\u001b[1;33m(\u001b[0m\u001b[1;33m)\u001b[0m\u001b[1;33m:\u001b[0m\u001b[1;33m\u001b[0m\u001b[1;33m\u001b[0m\u001b[0m\n\u001b[1;32m--> 111\u001b[1;33m                 \u001b[0mcoeff\u001b[0m \u001b[1;33m+=\u001b[0m \u001b[0mv\u001b[0m\u001b[1;33m*\u001b[0m\u001b[0mdfCoeff\u001b[0m\u001b[1;33m.\u001b[0m\u001b[0mloc\u001b[0m\u001b[1;33m[\u001b[0m\u001b[0mi\u001b[0m\u001b[1;33m,\u001b[0m \u001b[0mk\u001b[0m\u001b[1;33m]\u001b[0m\u001b[1;33m\u001b[0m\u001b[1;33m\u001b[0m\u001b[0m\n\u001b[0m\u001b[0;32m    112\u001b[0m             \u001b[0mdfCoeff\u001b[0m\u001b[1;33m.\u001b[0m\u001b[0mloc\u001b[0m\u001b[1;33m[\u001b[0m\u001b[0mi\u001b[0m\u001b[1;33m,\u001b[0m \u001b[1;34m'h2o_c'\u001b[0m\u001b[1;33m]\u001b[0m \u001b[1;33m=\u001b[0m \u001b[1;33m-\u001b[0m\u001b[0mcoeff\u001b[0m\u001b[1;33m\u001b[0m\u001b[1;33m\u001b[0m\u001b[0m\n\u001b[0;32m    113\u001b[0m \u001b[1;33m\u001b[0m\u001b[0m\n",
      "\u001b[1;32m~\\anaconda3\\lib\\site-packages\\pandas\\core\\indexing.py\u001b[0m in \u001b[0;36m__getitem__\u001b[1;34m(self, key)\u001b[0m\n\u001b[0;32m    956\u001b[0m         \u001b[1;32mif\u001b[0m \u001b[0mtype\u001b[0m\u001b[1;33m(\u001b[0m\u001b[0mkey\u001b[0m\u001b[1;33m)\u001b[0m \u001b[1;32mis\u001b[0m \u001b[0mtuple\u001b[0m\u001b[1;33m:\u001b[0m\u001b[1;33m\u001b[0m\u001b[1;33m\u001b[0m\u001b[0m\n\u001b[0;32m    957\u001b[0m             \u001b[0mkey\u001b[0m \u001b[1;33m=\u001b[0m \u001b[0mtuple\u001b[0m\u001b[1;33m(\u001b[0m\u001b[0mlist\u001b[0m\u001b[1;33m(\u001b[0m\u001b[0mx\u001b[0m\u001b[1;33m)\u001b[0m \u001b[1;32mif\u001b[0m \u001b[0mis_iterator\u001b[0m\u001b[1;33m(\u001b[0m\u001b[0mx\u001b[0m\u001b[1;33m)\u001b[0m \u001b[1;32melse\u001b[0m \u001b[0mx\u001b[0m \u001b[1;32mfor\u001b[0m \u001b[0mx\u001b[0m \u001b[1;32min\u001b[0m \u001b[0mkey\u001b[0m\u001b[1;33m)\u001b[0m\u001b[1;33m\u001b[0m\u001b[1;33m\u001b[0m\u001b[0m\n\u001b[1;32m--> 958\u001b[1;33m             \u001b[0mkey\u001b[0m \u001b[1;33m=\u001b[0m \u001b[0mtuple\u001b[0m\u001b[1;33m(\u001b[0m\u001b[0mcom\u001b[0m\u001b[1;33m.\u001b[0m\u001b[0mapply_if_callable\u001b[0m\u001b[1;33m(\u001b[0m\u001b[0mx\u001b[0m\u001b[1;33m,\u001b[0m \u001b[0mself\u001b[0m\u001b[1;33m.\u001b[0m\u001b[0mobj\u001b[0m\u001b[1;33m)\u001b[0m \u001b[1;32mfor\u001b[0m \u001b[0mx\u001b[0m \u001b[1;32min\u001b[0m \u001b[0mkey\u001b[0m\u001b[1;33m)\u001b[0m\u001b[1;33m\u001b[0m\u001b[1;33m\u001b[0m\u001b[0m\n\u001b[0m\u001b[0;32m    959\u001b[0m             \u001b[1;32mif\u001b[0m \u001b[0mself\u001b[0m\u001b[1;33m.\u001b[0m\u001b[0m_is_scalar_access\u001b[0m\u001b[1;33m(\u001b[0m\u001b[0mkey\u001b[0m\u001b[1;33m)\u001b[0m\u001b[1;33m:\u001b[0m\u001b[1;33m\u001b[0m\u001b[1;33m\u001b[0m\u001b[0m\n\u001b[0;32m    960\u001b[0m                 \u001b[1;32mreturn\u001b[0m \u001b[0mself\u001b[0m\u001b[1;33m.\u001b[0m\u001b[0mobj\u001b[0m\u001b[1;33m.\u001b[0m\u001b[0m_get_value\u001b[0m\u001b[1;33m(\u001b[0m\u001b[1;33m*\u001b[0m\u001b[0mkey\u001b[0m\u001b[1;33m,\u001b[0m \u001b[0mtakeable\u001b[0m\u001b[1;33m=\u001b[0m\u001b[0mself\u001b[0m\u001b[1;33m.\u001b[0m\u001b[0m_takeable\u001b[0m\u001b[1;33m)\u001b[0m\u001b[1;33m\u001b[0m\u001b[1;33m\u001b[0m\u001b[0m\n",
      "\u001b[1;32m~\\anaconda3\\lib\\site-packages\\pandas\\core\\indexing.py\u001b[0m in \u001b[0;36m<genexpr>\u001b[1;34m(.0)\u001b[0m\n\u001b[0;32m    956\u001b[0m         \u001b[1;32mif\u001b[0m \u001b[0mtype\u001b[0m\u001b[1;33m(\u001b[0m\u001b[0mkey\u001b[0m\u001b[1;33m)\u001b[0m \u001b[1;32mis\u001b[0m \u001b[0mtuple\u001b[0m\u001b[1;33m:\u001b[0m\u001b[1;33m\u001b[0m\u001b[1;33m\u001b[0m\u001b[0m\n\u001b[0;32m    957\u001b[0m             \u001b[0mkey\u001b[0m \u001b[1;33m=\u001b[0m \u001b[0mtuple\u001b[0m\u001b[1;33m(\u001b[0m\u001b[0mlist\u001b[0m\u001b[1;33m(\u001b[0m\u001b[0mx\u001b[0m\u001b[1;33m)\u001b[0m \u001b[1;32mif\u001b[0m \u001b[0mis_iterator\u001b[0m\u001b[1;33m(\u001b[0m\u001b[0mx\u001b[0m\u001b[1;33m)\u001b[0m \u001b[1;32melse\u001b[0m \u001b[0mx\u001b[0m \u001b[1;32mfor\u001b[0m \u001b[0mx\u001b[0m \u001b[1;32min\u001b[0m \u001b[0mkey\u001b[0m\u001b[1;33m)\u001b[0m\u001b[1;33m\u001b[0m\u001b[1;33m\u001b[0m\u001b[0m\n\u001b[1;32m--> 958\u001b[1;33m             \u001b[0mkey\u001b[0m \u001b[1;33m=\u001b[0m \u001b[0mtuple\u001b[0m\u001b[1;33m(\u001b[0m\u001b[0mcom\u001b[0m\u001b[1;33m.\u001b[0m\u001b[0mapply_if_callable\u001b[0m\u001b[1;33m(\u001b[0m\u001b[0mx\u001b[0m\u001b[1;33m,\u001b[0m \u001b[0mself\u001b[0m\u001b[1;33m.\u001b[0m\u001b[0mobj\u001b[0m\u001b[1;33m)\u001b[0m \u001b[1;32mfor\u001b[0m \u001b[0mx\u001b[0m \u001b[1;32min\u001b[0m \u001b[0mkey\u001b[0m\u001b[1;33m)\u001b[0m\u001b[1;33m\u001b[0m\u001b[1;33m\u001b[0m\u001b[0m\n\u001b[0m\u001b[0;32m    959\u001b[0m             \u001b[1;32mif\u001b[0m \u001b[0mself\u001b[0m\u001b[1;33m.\u001b[0m\u001b[0m_is_scalar_access\u001b[0m\u001b[1;33m(\u001b[0m\u001b[0mkey\u001b[0m\u001b[1;33m)\u001b[0m\u001b[1;33m:\u001b[0m\u001b[1;33m\u001b[0m\u001b[1;33m\u001b[0m\u001b[0m\n\u001b[0;32m    960\u001b[0m                 \u001b[1;32mreturn\u001b[0m \u001b[0mself\u001b[0m\u001b[1;33m.\u001b[0m\u001b[0mobj\u001b[0m\u001b[1;33m.\u001b[0m\u001b[0m_get_value\u001b[0m\u001b[1;33m(\u001b[0m\u001b[1;33m*\u001b[0m\u001b[0mkey\u001b[0m\u001b[1;33m,\u001b[0m \u001b[0mtakeable\u001b[0m\u001b[1;33m=\u001b[0m\u001b[0mself\u001b[0m\u001b[1;33m.\u001b[0m\u001b[0m_takeable\u001b[0m\u001b[1;33m)\u001b[0m\u001b[1;33m\u001b[0m\u001b[1;33m\u001b[0m\u001b[0m\n",
      "\u001b[1;31mKeyboardInterrupt\u001b[0m: "
     ]
    }
   ],
   "source": [
    "# Step 1 - vary coefficient\n",
    "fname = file_name(coeff_std=coeff_std, gam_std=None, ftype='dfCoeff')\n",
    "dfCoeff = make_normal_distributed_coefficients(model, coeff_std=coeff_std,\n",
    "                gam_val=gam_val, biomId=biomId, mets_select=[met_select], size=size)\n",
    "dfCoeff.to_csv(dir_case + fname + '.csv', sep='\\t')"
   ]
  },
  {
   "cell_type": "code",
   "execution_count": 5,
   "metadata": {},
   "outputs": [
    {
     "name": "stdout",
     "output_type": "stream",
     "text": [
      "No infeasible cases\n"
     ]
    }
   ],
   "source": [
    "# Step 2 - run pFBA\n",
    "fname = file_name(coeff_std=coeff_std, gam_std=None, ftype='dfCoeff')\n",
    "dfCoeff = pd.read_csv(dir_case + fname + '.csv', sep='\\t', index_col=0, header=0)\n",
    "\n",
    "fname = file_name(coeff_std=coeff_std, gam_std=None)\n",
    "dir_pfba = dir_case + 'pFBA/' + fname + '/'\n",
    "\n",
    "dir_model = 'EcoliGecko.json'\n",
    "model = cobra.io.load_json_model(dir_model)\n",
    "model.solver = 'gurobi'\n",
    "\n",
    "#revBetaOx = ['ACACT1r', 'ACACT2r', 'ACACT3r', 'ACACT4r', 'ACACT5r',\n",
    "#             'ACACT6r', 'ACACT7r', 'ACACT8r']\n",
    "\n",
    "revBetaOx = ['arm_ACACT1r', 'arm_ACACT1r_REV', 'arm_ACACT2r', 'arm_ACACT2r_REV', 'arm_ACACT3r', 'arm_ACACT3r_REV',\n",
    "            'arm_ACACT4r', 'arm_ACACT4r_REV', 'arm_ACACT5r', 'arm_ACACT5r_REV', 'arm_ACACT6r', 'arm_ACACT6r_REV',\n",
    "            'arm_ACACT7r', 'arm_ACACT7r_REV', 'arm_ACACT8r', 'arm_ACACT8r_REV']\n",
    "\n",
    "for rxnid in revBetaOx:\n",
    "    rxn = model.reactions.get_by_id(rxnid)\n",
    "    rxn.upper_bound = 0\n",
    "model.reactions.arm_POR5.lower_bound = 0\n",
    "#model.reactions.POR5.lower_bound = 0\n",
    "\n",
    "config = cobra.Configuration()\n",
    "config.tolerance = 1e-9\n",
    "zero_tol = 1e-9\n",
    "\n",
    "make_pfba_csv(model, dfCoeff, dir_pfba, biomId)"
   ]
  },
  {
   "cell_type": "code",
   "execution_count": 6,
   "metadata": {},
   "outputs": [],
   "source": [
    "# Step 3 - compile flux dataframe from pFBA csv\n",
    "fname = file_name(coeff_std=coeff_std, gam_std=None, ftype='dfCoeff')\n",
    "dfCoeff = pd.read_csv(dir_case + fname + '.csv', sep='\\t', index_col=0, header=0)\n",
    "\n",
    "fname = file_name(coeff_std=coeff_std, gam_std=None)\n",
    "dir_pfba = dir_case + 'pFBA/' + fname + '/'\n",
    "\n",
    "fname = file_name(coeff_std=coeff_std, gam_std=None, ftype='dfFlux')\n",
    "index = dfCoeff.index.to_list()\n",
    "dfFlux = make_fluxes_dataframe(index, dir_pfba)\n",
    "dfFlux = dfFlux.loc[:, (dfFlux.abs() > zero_tol).any(axis=0)]\n",
    "dfFlux.to_csv(dir_case + fname + '.csv', sep='\\t')\n",
    "\n",
    "# Remove pFBA files\n",
    "import shutil\n",
    "fname = file_name(coeff_std=coeff_std, gam_std=None)\n",
    "shutil.rmtree(dir_pfba)"
   ]
  },
  {
   "cell_type": "code",
   "execution_count": 2,
   "metadata": {},
   "outputs": [
    {
     "name": "stdout",
     "output_type": "stream",
     "text": [
      "0.1\n",
      "atp_c\n"
     ]
    }
   ],
   "source": [
    "size = 10000\n",
    "\n",
    "f = open('Parameters.txt', 'r')\n",
    "\n",
    "# Set this to 0.05, 0.2, and 0.3 and rerun\n",
    "coeff_std_old = float(f.readline().strip())\n",
    "coeff_std = 0.1\n",
    "met_select = f.readline().strip()\n",
    "#met_select = 'atp_c'\n",
    "\n",
    "print(coeff_std)\n",
    "print(met_select)\n",
    "f.close()"
   ]
  },
  {
   "cell_type": "code",
   "execution_count": null,
   "metadata": {},
   "outputs": [],
   "source": [
    "dir_model = 'EcoliGecko.json'\n",
    "model = cobra.io.load_json_model(dir_model)\n",
    "model.solver = 'gurobi'\n",
    "\n",
    "#revBetaOx = ['ACACT1r', 'ACACT2r', 'ACACT3r', 'ACACT4r', 'ACACT5r',\n",
    "#             'ACACT6r', 'ACACT7r', 'ACACT8r']\n",
    "\n",
    "revBetaOx = ['arm_ACACT1r', 'arm_ACACT1r_REV', 'arm_ACACT2r', 'arm_ACACT2r_REV', 'arm_ACACT3r', 'arm_ACACT3r_REV',\n",
    "            'arm_ACACT4r', 'arm_ACACT4r_REV', 'arm_ACACT5r', 'arm_ACACT5r_REV', 'arm_ACACT6r', 'arm_ACACT6r_REV',\n",
    "            'arm_ACACT7r', 'arm_ACACT7r_REV', 'arm_ACACT8r', 'arm_ACACT8r_REV']\n",
    "for rxnid in revBetaOx:\n",
    "    rxn = model.reactions.get_by_id(rxnid)\n",
    "    rxn.upper_bound = 0\n",
    "model.reactions.arm_POR5.lower_bound = 0\n",
    "#model.reactions.POR5.lower_bound = 0\n",
    "\n",
    "config = cobra.Configuration()\n",
    "config.tolerance = 1e-9\n",
    "zero_tol = 1e-9\n",
    "\n",
    "biomId = 'BIOMASS_Ec_iML1515_core_75p37M'\n",
    "#biomId = 'BIOMASS_Ec_iML1515_WT_75p37M'\n",
    "gam_val = 75.37723\n",
    "dir_case = './output/'\n",
    "import os\n",
    "if not os.path.exists(dir_case):\n",
    "    os.makedirs(dir_case)"
   ]
  },
  {
   "cell_type": "code",
   "execution_count": null,
   "metadata": {},
   "outputs": [],
   "source": [
    "# Step 1 - vary coefficient\n",
    "fname = file_name(coeff_std=coeff_std, gam_std=None, ftype='dfCoeff')\n",
    "dfCoeff = make_normal_distributed_coefficients(model, coeff_std=coeff_std,\n",
    "                gam_val=gam_val, biomId=biomId, mets_select=[met_select], size=size)\n",
    "dfCoeff.to_csv(dir_case + fname + '.csv', sep='\\t')"
   ]
  },
  {
   "cell_type": "code",
   "execution_count": null,
   "metadata": {},
   "outputs": [],
   "source": [
    "# Step 2 - run pFBA\n",
    "fname = file_name(coeff_std=coeff_std, gam_std=None, ftype='dfCoeff')\n",
    "dfCoeff = pd.read_csv(dir_case + fname + '.csv', sep='\\t', index_col=0, header=0)\n",
    "\n",
    "fname = file_name(coeff_std=coeff_std, gam_std=None)\n",
    "dir_pfba = dir_case + 'pFBA/' + fname + '/'\n",
    "\n",
    "dir_model = 'EcoliGecko.json'\n",
    "model = cobra.io.load_json_model(dir_model)\n",
    "model.solver = 'gurobi'\n",
    "\n",
    "#revBetaOx = ['ACACT1r', 'ACACT2r', 'ACACT3r', 'ACACT4r', 'ACACT5r',\n",
    "#             'ACACT6r', 'ACACT7r', 'ACACT8r']\n",
    "\n",
    "revBetaOx = ['arm_ACACT1r', 'arm_ACACT1r_REV', 'arm_ACACT2r', 'arm_ACACT2r_REV', 'arm_ACACT3r', 'arm_ACACT3r_REV',\n",
    "            'arm_ACACT4r', 'arm_ACACT4r_REV', 'arm_ACACT5r', 'arm_ACACT5r_REV', 'arm_ACACT6r', 'arm_ACACT6r_REV',\n",
    "            'arm_ACACT7r', 'arm_ACACT7r_REV', 'arm_ACACT8r', 'arm_ACACT8r_REV']\n",
    "\n",
    "for rxnid in revBetaOx:\n",
    "    rxn = model.reactions.get_by_id(rxnid)\n",
    "    rxn.upper_bound = 0\n",
    "model.reactions.arm_POR5.lower_bound = 0\n",
    "#model.reactions.POR5.lower_bound = 0\n",
    "\n",
    "config = cobra.Configuration()\n",
    "config.tolerance = 1e-9\n",
    "zero_tol = 1e-9\n",
    "\n",
    "make_pfba_csv(model, dfCoeff, dir_pfba, biomId)"
   ]
  },
  {
   "cell_type": "code",
   "execution_count": null,
   "metadata": {},
   "outputs": [],
   "source": [
    "# Step 3 - compile flux dataframe from pFBA csv\n",
    "fname = file_name(coeff_std=coeff_std, gam_std=None, ftype='dfCoeff')\n",
    "dfCoeff = pd.read_csv(dir_case + fname + '.csv', sep='\\t', index_col=0, header=0)\n",
    "\n",
    "fname = file_name(coeff_std=coeff_std, gam_std=None)\n",
    "dir_pfba = dir_case + 'pFBA/' + fname + '/'\n",
    "\n",
    "fname = file_name(coeff_std=coeff_std, gam_std=None, ftype='dfFlux')\n",
    "index = dfCoeff.index.to_list()\n",
    "dfFlux = make_fluxes_dataframe(index, dir_pfba)\n",
    "dfFlux = dfFlux.loc[:, (dfFlux.abs() > zero_tol).any(axis=0)]\n",
    "dfFlux.to_csv(dir_case + fname + '.csv', sep='\\t')\n",
    "\n",
    "# Remove pFBA files\n",
    "import shutil\n",
    "fname = file_name(coeff_std=coeff_std, gam_std=None)\n",
    "shutil.rmtree(dir_pfba)"
   ]
  },
  {
   "cell_type": "code",
   "execution_count": 4,
   "metadata": {},
   "outputs": [
    {
     "name": "stdout",
     "output_type": "stream",
     "text": [
      "0.2\n",
      "atp_c\n"
     ]
    }
   ],
   "source": [
    "size = 10000\n",
    "\n",
    "f = open('Parameters.txt', 'r')\n",
    "\n",
    "# Set this to 0.05, 0.2, and 0.3 and rerun\n",
    "coeff_std_old = float(f.readline().strip())\n",
    "coeff_std = 0.2\n",
    "met_select = f.readline().strip()\n",
    "#met_select = 'atp_c'\n",
    "\n",
    "print(coeff_std)\n",
    "print(met_select)\n",
    "f.close()"
   ]
  },
  {
   "cell_type": "code",
   "execution_count": null,
   "metadata": {},
   "outputs": [],
   "source": [
    "dir_model = 'EcoliGecko.json'\n",
    "model = cobra.io.load_json_model(dir_model)\n",
    "model.solver = 'gurobi'\n",
    "\n",
    "#revBetaOx = ['ACACT1r', 'ACACT2r', 'ACACT3r', 'ACACT4r', 'ACACT5r',\n",
    "#             'ACACT6r', 'ACACT7r', 'ACACT8r']\n",
    "\n",
    "revBetaOx = ['arm_ACACT1r', 'arm_ACACT1r_REV', 'arm_ACACT2r', 'arm_ACACT2r_REV', 'arm_ACACT3r', 'arm_ACACT3r_REV',\n",
    "            'arm_ACACT4r', 'arm_ACACT4r_REV', 'arm_ACACT5r', 'arm_ACACT5r_REV', 'arm_ACACT6r', 'arm_ACACT6r_REV',\n",
    "            'arm_ACACT7r', 'arm_ACACT7r_REV', 'arm_ACACT8r', 'arm_ACACT8r_REV']\n",
    "for rxnid in revBetaOx:\n",
    "    rxn = model.reactions.get_by_id(rxnid)\n",
    "    rxn.upper_bound = 0\n",
    "model.reactions.arm_POR5.lower_bound = 0\n",
    "#model.reactions.POR5.lower_bound = 0\n",
    "\n",
    "config = cobra.Configuration()\n",
    "config.tolerance = 1e-9\n",
    "zero_tol = 1e-9\n",
    "\n",
    "biomId = 'BIOMASS_Ec_iML1515_core_75p37M'\n",
    "#biomId = 'BIOMASS_Ec_iML1515_WT_75p37M'\n",
    "gam_val = 75.37723\n",
    "dir_case = './output/'\n",
    "import os\n",
    "if not os.path.exists(dir_case):\n",
    "    os.makedirs(dir_case)"
   ]
  },
  {
   "cell_type": "code",
   "execution_count": null,
   "metadata": {},
   "outputs": [],
   "source": [
    "# Step 1 - vary coefficient\n",
    "fname = file_name(coeff_std=coeff_std, gam_std=None, ftype='dfCoeff')\n",
    "dfCoeff = make_normal_distributed_coefficients(model, coeff_std=coeff_std,\n",
    "                gam_val=gam_val, biomId=biomId, mets_select=[met_select], size=size)\n",
    "dfCoeff.to_csv(dir_case + fname + '.csv', sep='\\t')"
   ]
  },
  {
   "cell_type": "code",
   "execution_count": null,
   "metadata": {},
   "outputs": [],
   "source": [
    "# Step 2 - run pFBA\n",
    "fname = file_name(coeff_std=coeff_std, gam_std=None, ftype='dfCoeff')\n",
    "dfCoeff = pd.read_csv(dir_case + fname + '.csv', sep='\\t', index_col=0, header=0)\n",
    "\n",
    "fname = file_name(coeff_std=coeff_std, gam_std=None)\n",
    "dir_pfba = dir_case + 'pFBA/' + fname + '/'\n",
    "\n",
    "dir_model = 'EcoliGecko.json'\n",
    "model = cobra.io.load_json_model(dir_model)\n",
    "model.solver = 'gurobi'\n",
    "\n",
    "#revBetaOx = ['ACACT1r', 'ACACT2r', 'ACACT3r', 'ACACT4r', 'ACACT5r',\n",
    "#             'ACACT6r', 'ACACT7r', 'ACACT8r']\n",
    "\n",
    "revBetaOx = ['arm_ACACT1r', 'arm_ACACT1r_REV', 'arm_ACACT2r', 'arm_ACACT2r_REV', 'arm_ACACT3r', 'arm_ACACT3r_REV',\n",
    "            'arm_ACACT4r', 'arm_ACACT4r_REV', 'arm_ACACT5r', 'arm_ACACT5r_REV', 'arm_ACACT6r', 'arm_ACACT6r_REV',\n",
    "            'arm_ACACT7r', 'arm_ACACT7r_REV', 'arm_ACACT8r', 'arm_ACACT8r_REV']\n",
    "\n",
    "for rxnid in revBetaOx:\n",
    "    rxn = model.reactions.get_by_id(rxnid)\n",
    "    rxn.upper_bound = 0\n",
    "model.reactions.arm_POR5.lower_bound = 0\n",
    "#model.reactions.POR5.lower_bound = 0\n",
    "\n",
    "config = cobra.Configuration()\n",
    "config.tolerance = 1e-9\n",
    "zero_tol = 1e-9\n",
    "\n",
    "make_pfba_csv(model, dfCoeff, dir_pfba, biomId)"
   ]
  },
  {
   "cell_type": "code",
   "execution_count": null,
   "metadata": {},
   "outputs": [],
   "source": [
    "# Step 3 - compile flux dataframe from pFBA csv\n",
    "fname = file_name(coeff_std=coeff_std, gam_std=None, ftype='dfCoeff')\n",
    "dfCoeff = pd.read_csv(dir_case + fname + '.csv', sep='\\t', index_col=0, header=0)\n",
    "\n",
    "fname = file_name(coeff_std=coeff_std, gam_std=None)\n",
    "dir_pfba = dir_case + 'pFBA/' + fname + '/'\n",
    "\n",
    "fname = file_name(coeff_std=coeff_std, gam_std=None, ftype='dfFlux')\n",
    "index = dfCoeff.index.to_list()\n",
    "dfFlux = make_fluxes_dataframe(index, dir_pfba)\n",
    "dfFlux = dfFlux.loc[:, (dfFlux.abs() > zero_tol).any(axis=0)]\n",
    "dfFlux.to_csv(dir_case + fname + '.csv', sep='\\t')\n",
    "\n",
    "# Remove pFBA files\n",
    "import shutil\n",
    "fname = file_name(coeff_std=coeff_std, gam_std=None)\n",
    "shutil.rmtree(dir_pfba)"
   ]
  },
  {
   "cell_type": "code",
   "execution_count": 3,
   "metadata": {},
   "outputs": [
    {
     "name": "stdout",
     "output_type": "stream",
     "text": [
      "0.3\n",
      "atp_c\n"
     ]
    }
   ],
   "source": [
    "size = 10000\n",
    "\n",
    "f = open('Parameters.txt', 'r')\n",
    "\n",
    "# Set this to 0.05, 0.2, and 0.3 and rerun\n",
    "coeff_std_old = float(f.readline().strip())\n",
    "coeff_std = 0.3\n",
    "met_select = f.readline().strip()\n",
    "#met_select = 'atp_c'\n",
    "\n",
    "print(coeff_std)\n",
    "print(met_select)\n",
    "f.close()"
   ]
  },
  {
   "cell_type": "code",
   "execution_count": null,
   "metadata": {},
   "outputs": [],
   "source": [
    "dir_model = 'EcoliGecko.json'\n",
    "model = cobra.io.load_json_model(dir_model)\n",
    "model.solver = 'gurobi'\n",
    "\n",
    "#revBetaOx = ['ACACT1r', 'ACACT2r', 'ACACT3r', 'ACACT4r', 'ACACT5r',\n",
    "#             'ACACT6r', 'ACACT7r', 'ACACT8r']\n",
    "\n",
    "revBetaOx = ['arm_ACACT1r', 'arm_ACACT1r_REV', 'arm_ACACT2r', 'arm_ACACT2r_REV', 'arm_ACACT3r', 'arm_ACACT3r_REV',\n",
    "            'arm_ACACT4r', 'arm_ACACT4r_REV', 'arm_ACACT5r', 'arm_ACACT5r_REV', 'arm_ACACT6r', 'arm_ACACT6r_REV',\n",
    "            'arm_ACACT7r', 'arm_ACACT7r_REV', 'arm_ACACT8r', 'arm_ACACT8r_REV']\n",
    "for rxnid in revBetaOx:\n",
    "    rxn = model.reactions.get_by_id(rxnid)\n",
    "    rxn.upper_bound = 0\n",
    "model.reactions.arm_POR5.lower_bound = 0\n",
    "#model.reactions.POR5.lower_bound = 0\n",
    "\n",
    "config = cobra.Configuration()\n",
    "config.tolerance = 1e-9\n",
    "zero_tol = 1e-9\n",
    "\n",
    "biomId = 'BIOMASS_Ec_iML1515_core_75p37M'\n",
    "#biomId = 'BIOMASS_Ec_iML1515_WT_75p37M'\n",
    "gam_val = 75.37723\n",
    "dir_case = './output/'\n",
    "import os\n",
    "if not os.path.exists(dir_case):\n",
    "    os.makedirs(dir_case)"
   ]
  },
  {
   "cell_type": "code",
   "execution_count": null,
   "metadata": {},
   "outputs": [],
   "source": [
    "# Step 1 - vary coefficient\n",
    "fname = file_name(coeff_std=coeff_std, gam_std=None, ftype='dfCoeff')\n",
    "dfCoeff = make_normal_distributed_coefficients(model, coeff_std=coeff_std,\n",
    "                gam_val=gam_val, biomId=biomId, mets_select=[met_select], size=size)\n",
    "dfCoeff.to_csv(dir_case + fname + '.csv', sep='\\t')"
   ]
  },
  {
   "cell_type": "code",
   "execution_count": null,
   "metadata": {},
   "outputs": [],
   "source": [
    "# Step 2 - run pFBA\n",
    "fname = file_name(coeff_std=coeff_std, gam_std=None, ftype='dfCoeff')\n",
    "dfCoeff = pd.read_csv(dir_case + fname + '.csv', sep='\\t', index_col=0, header=0)\n",
    "\n",
    "fname = file_name(coeff_std=coeff_std, gam_std=None)\n",
    "dir_pfba = dir_case + 'pFBA/' + fname + '/'\n",
    "\n",
    "dir_model = 'EcoliGecko.json'\n",
    "model = cobra.io.load_json_model(dir_model)\n",
    "model.solver = 'gurobi'\n",
    "\n",
    "#revBetaOx = ['ACACT1r', 'ACACT2r', 'ACACT3r', 'ACACT4r', 'ACACT5r',\n",
    "#             'ACACT6r', 'ACACT7r', 'ACACT8r']\n",
    "\n",
    "revBetaOx = ['arm_ACACT1r', 'arm_ACACT1r_REV', 'arm_ACACT2r', 'arm_ACACT2r_REV', 'arm_ACACT3r', 'arm_ACACT3r_REV',\n",
    "            'arm_ACACT4r', 'arm_ACACT4r_REV', 'arm_ACACT5r', 'arm_ACACT5r_REV', 'arm_ACACT6r', 'arm_ACACT6r_REV',\n",
    "            'arm_ACACT7r', 'arm_ACACT7r_REV', 'arm_ACACT8r', 'arm_ACACT8r_REV']\n",
    "\n",
    "for rxnid in revBetaOx:\n",
    "    rxn = model.reactions.get_by_id(rxnid)\n",
    "    rxn.upper_bound = 0\n",
    "model.reactions.arm_POR5.lower_bound = 0\n",
    "#model.reactions.POR5.lower_bound = 0\n",
    "\n",
    "config = cobra.Configuration()\n",
    "config.tolerance = 1e-9\n",
    "zero_tol = 1e-9\n",
    "\n",
    "make_pfba_csv(model, dfCoeff, dir_pfba, biomId)"
   ]
  },
  {
   "cell_type": "code",
   "execution_count": null,
   "metadata": {},
   "outputs": [],
   "source": [
    "# Step 3 - compile flux dataframe from pFBA csv\n",
    "fname = file_name(coeff_std=coeff_std, gam_std=None, ftype='dfCoeff')\n",
    "dfCoeff = pd.read_csv(dir_case + fname + '.csv', sep='\\t', index_col=0, header=0)\n",
    "\n",
    "fname = file_name(coeff_std=coeff_std, gam_std=None)\n",
    "dir_pfba = dir_case + 'pFBA/' + fname + '/'\n",
    "\n",
    "fname = file_name(coeff_std=coeff_std, gam_std=None, ftype='dfFlux')\n",
    "index = dfCoeff.index.to_list()\n",
    "dfFlux = make_fluxes_dataframe(index, dir_pfba)\n",
    "dfFlux = dfFlux.loc[:, (dfFlux.abs() > zero_tol).any(axis=0)]\n",
    "dfFlux.to_csv(dir_case + fname + '.csv', sep='\\t')\n",
    "\n",
    "# Remove pFBA files\n",
    "import shutil\n",
    "fname = file_name(coeff_std=coeff_std, gam_std=None)\n",
    "shutil.rmtree(dir_pfba)"
   ]
  }
 ],
 "metadata": {
  "kernelspec": {
   "display_name": "Python 3 (ipykernel)",
   "language": "python",
   "name": "python3"
  },
  "language_info": {
   "codemirror_mode": {
    "name": "ipython",
    "version": 3
   },
   "file_extension": ".py",
   "mimetype": "text/x-python",
   "name": "python",
   "nbconvert_exporter": "python",
   "pygments_lexer": "ipython3",
   "version": "3.9.7"
  }
 },
 "nbformat": 4,
 "nbformat_minor": 2
}
